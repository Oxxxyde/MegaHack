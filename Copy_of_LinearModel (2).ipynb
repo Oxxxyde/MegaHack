{
  "nbformat": 4,
  "nbformat_minor": 0,
  "metadata": {
    "colab": {
      "name": "Copy of LinearModel.ipynb",
      "version": "0.3.2",
      "provenance": [],
      "collapsed_sections": []
    },
    "kernelspec": {
      "name": "python3",
      "display_name": "Python 3"
    },
    "accelerator": "GPU"
  },
  "cells": [
    {
      "metadata": {
        "id": "hj7TJM2-EUYj",
        "colab_type": "code",
        "colab": {}
      },
      "cell_type": "code",
      "source": [
        "import seaborn as sns\n",
        "import matplotlib.pyplot as plt\n",
        "import os\n",
        "import pandas as pd\n",
        "import numpy as np\n",
        "%matplotlib inline\n",
        "from sklearn.preprocessing import LabelEncoder\n",
        "from scipy.sparse import csr_matrix, hstack\n",
        "from sklearn.linear_model import LogisticRegression\n",
        "from sklearn.model_selection import StratifiedKFold\n",
        "from sklearn.metrics import log_loss"
      ],
      "execution_count": 0,
      "outputs": []
    },
    {
      "metadata": {
        "id": "a8C4cbFOEr_2",
        "colab_type": "code",
        "outputId": "252d3750-13df-4af9-9216-627ba81179b8",
        "colab": {
          "base_uri": "https://localhost:8080/",
          "height": 34
        }
      },
      "cell_type": "code",
      "source": [
        "from google.colab import drive \n",
        "drive.mount('/content/gdrive')"
      ],
      "execution_count": 6,
      "outputs": [
        {
          "output_type": "stream",
          "text": [
            "Drive already mounted at /content/gdrive; to attempt to forcibly remount, call drive.mount(\"/content/gdrive\", force_remount=True).\n"
          ],
          "name": "stdout"
        }
      ]
    },
    {
      "metadata": {
        "id": "8bFYErSmFVom",
        "colab_type": "code",
        "outputId": "74709b96-55ae-432d-f0e5-166bf3683399",
        "colab": {
          "base_uri": "https://localhost:8080/",
          "height": 71
        }
      },
      "cell_type": "code",
      "source": [
        "#Читаем только, то что нужно\n",
        "# Избавляемся от дупликатов id в phone\n",
        "gatrain = pd.read_csv('gdrive/My Drive/TalkingData/gender_age_train.csv', index_col='device_id')\n",
        "gatest = pd.read_csv('gdrive/My Drive/TalkingData/gender_age_test.csv', index_col = 'device_id')\n",
        "phone = pd.read_csv('gdrive/My Drive/TalkingData/phone_brand_device_model.csv')\n",
        "phone = phone.drop_duplicates('device_id', keep='first').set_index('device_id')\n",
        "events = pd.read_csv('gdrive/My Drive/TalkingData/events.csv', parse_dates=['timestamp'], index_col='event_id')\n",
        "appevents = pd.read_csv('gdrive/My Drive/TalkingData/app_events.csv', usecols=['event_id','app_id','is_active'], dtype={'is_active':bool})\n",
        "applabels = pd.read_csv('gdrive/My Drive/TalkingData/app_labels.csv')"
      ],
      "execution_count": 7,
      "outputs": [
        {
          "output_type": "stream",
          "text": [
            "/usr/local/lib/python3.6/dist-packages/numpy/lib/arraysetops.py:569: FutureWarning: elementwise comparison failed; returning scalar instead, but in the future will perform elementwise comparison\n",
            "  mask |= (ar1 == a)\n"
          ],
          "name": "stderr"
        }
      ]
    },
    {
      "metadata": {
        "id": "Anvldwn3Gy7G",
        "colab_type": "code",
        "outputId": "9761dc71-9ebb-4925-b39e-96d90bdf4c64",
        "colab": {
          "base_uri": "https://localhost:8080/",
          "height": 34
        }
      },
      "cell_type": "code",
      "source": [
        "gatrain['trainrow'] = np.arange(gatrain.shape[0])\n",
        "gatest['testrow'] = np.arange(gatest.shape[0])\n",
        "brandencoder = LabelEncoder().fit(phone.phone_brand)\n",
        "phone['brand'] = brandencoder.transform(phone['phone_brand'])\n",
        "gatrain['brand'] = phone['brand']\n",
        "gatest['brand'] = phone['brand']\n",
        "Xtr_brand = csr_matrix((np.ones(gatrain.shape[0]), \n",
        "                       (gatrain.trainrow, gatrain.brand)))\n",
        "Xte_brand = csr_matrix((np.ones(gatest.shape[0]), \n",
        "                       (gatest.testrow, gatest.brand)))\n",
        "print('Признаки для брэндов (размеры): train shape {}, test shape {}'.format(Xtr_brand.shape, Xte_brand.shape))"
      ],
      "execution_count": 8,
      "outputs": [
        {
          "output_type": "stream",
          "text": [
            "Признаки для брэндов (размеры): train shape (74645, 131), test shape (112071, 131)\n"
          ],
          "name": "stdout"
        }
      ]
    },
    {
      "metadata": {
        "id": "18KbR1xhG8bZ",
        "colab_type": "code",
        "outputId": "6288a77b-1ba2-4c07-b755-e61f6e37f22f",
        "colab": {
          "base_uri": "https://localhost:8080/",
          "height": 34
        }
      },
      "cell_type": "code",
      "source": [
        "m = phone.phone_brand.str.cat(phone.device_model)\n",
        "modelencoder = LabelEncoder().fit(m)\n",
        "phone['model'] = modelencoder.transform(m)\n",
        "gatrain['model'] = phone['model']\n",
        "gatest['model'] = phone['model']\n",
        "Xtr_model = csr_matrix((np.ones(gatrain.shape[0]), \n",
        "                       (gatrain.trainrow, gatrain.model)))\n",
        "Xte_model = csr_matrix((np.ones(gatest.shape[0]), \n",
        "                       (gatest.testrow, gatest.model)))\n",
        "print('Признаки по моделям (размеры): train shape {}, test shape {}'.format(Xtr_model.shape, Xte_model.shape))"
      ],
      "execution_count": 9,
      "outputs": [
        {
          "output_type": "stream",
          "text": [
            "Признаки по моделям (размеры): train shape (74645, 1667), test shape (112071, 1667)\n"
          ],
          "name": "stdout"
        }
      ]
    },
    {
      "metadata": {
        "id": "OaOUM1T-HBTO",
        "colab_type": "code",
        "outputId": "994989bc-d841-401a-96d8-12aafc6844fe",
        "colab": {
          "base_uri": "https://localhost:8080/",
          "height": 204
        }
      },
      "cell_type": "code",
      "source": [
        "appencoder = LabelEncoder().fit(appevents.app_id)\n",
        "appevents['app'] = appencoder.transform(appevents.app_id)\n",
        "napps = len(appencoder.classes_)\n",
        "deviceapps = (appevents.merge(events[['device_id']], how='left',left_on='event_id',right_index=True)\n",
        "                       .groupby(['device_id','app'])['app'].agg(['size'])\n",
        "                       .merge(gatrain[['trainrow']], how='left', left_index=True, right_index=True)\n",
        "                       .merge(gatest[['testrow']], how='left', left_index=True, right_index=True)\n",
        "                       .reset_index())\n",
        "deviceapps.head()"
      ],
      "execution_count": 10,
      "outputs": [
        {
          "output_type": "execute_result",
          "data": {
            "text/html": [
              "<div>\n",
              "<style scoped>\n",
              "    .dataframe tbody tr th:only-of-type {\n",
              "        vertical-align: middle;\n",
              "    }\n",
              "\n",
              "    .dataframe tbody tr th {\n",
              "        vertical-align: top;\n",
              "    }\n",
              "\n",
              "    .dataframe thead th {\n",
              "        text-align: right;\n",
              "    }\n",
              "</style>\n",
              "<table border=\"1\" class=\"dataframe\">\n",
              "  <thead>\n",
              "    <tr style=\"text-align: right;\">\n",
              "      <th></th>\n",
              "      <th>device_id</th>\n",
              "      <th>app</th>\n",
              "      <th>size</th>\n",
              "      <th>trainrow</th>\n",
              "      <th>testrow</th>\n",
              "    </tr>\n",
              "  </thead>\n",
              "  <tbody>\n",
              "    <tr>\n",
              "      <th>0</th>\n",
              "      <td>-9222956879900151005</td>\n",
              "      <td>548</td>\n",
              "      <td>18</td>\n",
              "      <td>21594.0</td>\n",
              "      <td>NaN</td>\n",
              "    </tr>\n",
              "    <tr>\n",
              "      <th>1</th>\n",
              "      <td>-9222956879900151005</td>\n",
              "      <td>1096</td>\n",
              "      <td>18</td>\n",
              "      <td>21594.0</td>\n",
              "      <td>NaN</td>\n",
              "    </tr>\n",
              "    <tr>\n",
              "      <th>2</th>\n",
              "      <td>-9222956879900151005</td>\n",
              "      <td>1248</td>\n",
              "      <td>26</td>\n",
              "      <td>21594.0</td>\n",
              "      <td>NaN</td>\n",
              "    </tr>\n",
              "    <tr>\n",
              "      <th>3</th>\n",
              "      <td>-9222956879900151005</td>\n",
              "      <td>1545</td>\n",
              "      <td>12</td>\n",
              "      <td>21594.0</td>\n",
              "      <td>NaN</td>\n",
              "    </tr>\n",
              "    <tr>\n",
              "      <th>4</th>\n",
              "      <td>-9222956879900151005</td>\n",
              "      <td>1664</td>\n",
              "      <td>18</td>\n",
              "      <td>21594.0</td>\n",
              "      <td>NaN</td>\n",
              "    </tr>\n",
              "  </tbody>\n",
              "</table>\n",
              "</div>"
            ],
            "text/plain": [
              "             device_id   app  size  trainrow  testrow\n",
              "0 -9222956879900151005   548    18   21594.0      NaN\n",
              "1 -9222956879900151005  1096    18   21594.0      NaN\n",
              "2 -9222956879900151005  1248    26   21594.0      NaN\n",
              "3 -9222956879900151005  1545    12   21594.0      NaN\n",
              "4 -9222956879900151005  1664    18   21594.0      NaN"
            ]
          },
          "metadata": {
            "tags": []
          },
          "execution_count": 10
        }
      ]
    },
    {
      "metadata": {
        "id": "Fg_2jO1lHO3d",
        "colab_type": "code",
        "outputId": "79f39477-8b8a-4110-f056-c5a16ebc1bad",
        "colab": {
          "base_uri": "https://localhost:8080/",
          "height": 34
        }
      },
      "cell_type": "code",
      "source": [
        "d = deviceapps.dropna(subset=['trainrow'])\n",
        "Xtr_app = csr_matrix((np.ones(d.shape[0]), (d.trainrow, d.app)), \n",
        "                      shape=(gatrain.shape[0],napps))\n",
        "d = deviceapps.dropna(subset=['testrow'])\n",
        "Xte_app = csr_matrix((np.ones(d.shape[0]), (d.testrow, d.app)), \n",
        "                      shape=(gatest.shape[0],napps))\n",
        "print('Данные приложений (форма): train shape {}, test shape {}'.format(Xtr_app.shape, Xte_app.shape))"
      ],
      "execution_count": 11,
      "outputs": [
        {
          "output_type": "stream",
          "text": [
            "Данные приложений (форма): train shape (74645, 19237), test shape (112071, 19237)\n"
          ],
          "name": "stdout"
        }
      ]
    },
    {
      "metadata": {
        "id": "Y_ZbLIUPkiok",
        "colab_type": "code",
        "colab": {}
      },
      "cell_type": "code",
      "source": [
        "# Связываем лэйбл с девайс ID через transform по столбцу label_id\n",
        "applabels = applabels.loc[applabels.app_id.isin(appevents.app_id.unique())]\n",
        "applabels['app'] = appencoder.transform(applabels.app_id)\n",
        "labelencoder = LabelEncoder().fit(applabels.label_id)\n",
        "applabels['label'] = labelencoder.transform(applabels.label_id)\n",
        "nlabels = len(labelencoder.classes_)"
      ],
      "execution_count": 0,
      "outputs": []
    },
    {
      "metadata": {
        "id": "tSaqQQQWkm3n",
        "colab_type": "code",
        "outputId": "296b8425-7b3d-4fa7-b268-4ea55fedd4ac",
        "colab": {
          "base_uri": "https://localhost:8080/",
          "height": 204
        }
      },
      "cell_type": "code",
      "source": [
        "devicelabels = (deviceapps[['device_id','app']]\n",
        "                .merge(applabels[['app','label']])\n",
        "                .groupby(['device_id','label'])['app'].agg(['size'])\n",
        "                .merge(gatrain[['trainrow']], how='left', left_index=True, right_index=True)\n",
        "                .merge(gatest[['testrow']], how='left', left_index=True, right_index=True)\n",
        "                .reset_index())\n",
        "devicelabels.head()"
      ],
      "execution_count": 13,
      "outputs": [
        {
          "output_type": "execute_result",
          "data": {
            "text/html": [
              "<div>\n",
              "<style scoped>\n",
              "    .dataframe tbody tr th:only-of-type {\n",
              "        vertical-align: middle;\n",
              "    }\n",
              "\n",
              "    .dataframe tbody tr th {\n",
              "        vertical-align: top;\n",
              "    }\n",
              "\n",
              "    .dataframe thead th {\n",
              "        text-align: right;\n",
              "    }\n",
              "</style>\n",
              "<table border=\"1\" class=\"dataframe\">\n",
              "  <thead>\n",
              "    <tr style=\"text-align: right;\">\n",
              "      <th></th>\n",
              "      <th>device_id</th>\n",
              "      <th>label</th>\n",
              "      <th>size</th>\n",
              "      <th>trainrow</th>\n",
              "      <th>testrow</th>\n",
              "    </tr>\n",
              "  </thead>\n",
              "  <tbody>\n",
              "    <tr>\n",
              "      <th>0</th>\n",
              "      <td>-9222956879900151005</td>\n",
              "      <td>117</td>\n",
              "      <td>1</td>\n",
              "      <td>21594.0</td>\n",
              "      <td>NaN</td>\n",
              "    </tr>\n",
              "    <tr>\n",
              "      <th>1</th>\n",
              "      <td>-9222956879900151005</td>\n",
              "      <td>120</td>\n",
              "      <td>1</td>\n",
              "      <td>21594.0</td>\n",
              "      <td>NaN</td>\n",
              "    </tr>\n",
              "    <tr>\n",
              "      <th>2</th>\n",
              "      <td>-9222956879900151005</td>\n",
              "      <td>126</td>\n",
              "      <td>1</td>\n",
              "      <td>21594.0</td>\n",
              "      <td>NaN</td>\n",
              "    </tr>\n",
              "    <tr>\n",
              "      <th>3</th>\n",
              "      <td>-9222956879900151005</td>\n",
              "      <td>138</td>\n",
              "      <td>2</td>\n",
              "      <td>21594.0</td>\n",
              "      <td>NaN</td>\n",
              "    </tr>\n",
              "    <tr>\n",
              "      <th>4</th>\n",
              "      <td>-9222956879900151005</td>\n",
              "      <td>147</td>\n",
              "      <td>2</td>\n",
              "      <td>21594.0</td>\n",
              "      <td>NaN</td>\n",
              "    </tr>\n",
              "  </tbody>\n",
              "</table>\n",
              "</div>"
            ],
            "text/plain": [
              "             device_id  label  size  trainrow  testrow\n",
              "0 -9222956879900151005    117     1   21594.0      NaN\n",
              "1 -9222956879900151005    120     1   21594.0      NaN\n",
              "2 -9222956879900151005    126     1   21594.0      NaN\n",
              "3 -9222956879900151005    138     2   21594.0      NaN\n",
              "4 -9222956879900151005    147     2   21594.0      NaN"
            ]
          },
          "metadata": {
            "tags": []
          },
          "execution_count": 13
        }
      ]
    },
    {
      "metadata": {
        "id": "HpVtVgIxRNJ7",
        "colab_type": "code",
        "outputId": "30a6e86e-fdc3-40c0-d58f-68b9118af77c",
        "colab": {
          "base_uri": "https://localhost:8080/",
          "height": 34
        }
      },
      "cell_type": "code",
      "source": [
        "d = devicelabels.dropna(subset=['trainrow'])\n",
        "Xtr_label = csr_matrix((np.ones(d.shape[0]), (d.trainrow, d.label)), \n",
        "                      shape=(gatrain.shape[0],nlabels))\n",
        "d = devicelabels.dropna(subset=['testrow'])\n",
        "Xte_label = csr_matrix((np.ones(d.shape[0]), (d.testrow, d.label)), \n",
        "                      shape=(gatest.shape[0],nlabels))\n",
        "print('Данные лейблов: train shape {}, test shape {}'.format(Xtr_label.shape, Xte_label.shape))"
      ],
      "execution_count": 14,
      "outputs": [
        {
          "output_type": "stream",
          "text": [
            "Данные лейблов: train shape (74645, 492), test shape (112071, 492)\n"
          ],
          "name": "stdout"
        }
      ]
    },
    {
      "metadata": {
        "id": "pO7SC3SKmo0Y",
        "colab_type": "code",
        "outputId": "a5d2e18d-eba1-4f61-fecb-29c2b258f181",
        "colab": {
          "base_uri": "https://localhost:8080/",
          "height": 34
        }
      },
      "cell_type": "code",
      "source": [
        "Xtrain = hstack((Xtr_brand, Xtr_model, Xtr_app, Xtr_label), format='csr')\n",
        "Xtest =  hstack((Xte_brand, Xte_model, Xte_app, Xte_label), format='csr')\n",
        "print('Все свойства: train shape {}, test shape {}'.format(Xtrain.shape, Xtest.shape))"
      ],
      "execution_count": 15,
      "outputs": [
        {
          "output_type": "stream",
          "text": [
            "Все свойства: train shape (74645, 21527), test shape (112071, 21527)\n"
          ],
          "name": "stdout"
        }
      ]
    },
    {
      "metadata": {
        "id": "F-bfjOF6t1FL",
        "colab_type": "code",
        "colab": {
          "base_uri": "https://localhost:8080/",
          "height": 34
        },
        "outputId": "e0f51af3-08f8-4d24-bc5e-99936e17342d"
      },
      "cell_type": "code",
      "source": [
        "from keras.models import Sequential\n",
        "from keras.layers import Dense, Dropout, Activation\n",
        "from keras.wrappers.scikit_learn import KerasClassifier\n",
        "from keras.utils import np_utils\n",
        "from keras.optimizers import SGD\n",
        "\n",
        "from sklearn.model_selection import cross_val_score\n",
        "from sklearn.model_selection import KFold\n",
        "from sklearn.preprocessing import LabelEncoder\n",
        "from sklearn.pipeline import Pipeline\n",
        "from sklearn.model_selection import train_test_split\n",
        "from sklearn.metrics import log_loss\n",
        "\n",
        "from keras.layers import Input, Dense\n",
        "from keras.models import Model\n",
        "from keras.layers import GaussianDropout, GaussianNoise\n",
        "from keras.layers.advanced_activations import PReLU\n",
        "from keras.callbacks import EarlyStopping\n",
        "#from keras.callbacks import ModelCheckpoint"
      ],
      "execution_count": 16,
      "outputs": [
        {
          "output_type": "stream",
          "text": [
            "Using TensorFlow backend.\n"
          ],
          "name": "stderr"
        }
      ]
    },
    {
      "metadata": {
        "id": "E3QyX6gOt17J",
        "colab_type": "code",
        "colab": {}
      },
      "cell_type": "code",
      "source": [
        "def rstr(df): return df.dtypes, df.head(3) ,df.apply(lambda x: [x.unique()]), df.apply(lambda x: [len(x.unique())]),df.shape\n",
        "\n",
        "def batch_generator(X, y, batch_size, shuffle):\n",
        "    # Генератор пакетов - взято отсюда (https://www.kaggle.com/c/talkingdata-mobile-user-demographics/forums/t/22567/neural-network-for-sparse-matrices)\n",
        "    number_of_batches = np.ceil(X.shape[0]/batch_size)\n",
        "    counter = 0\n",
        "    sample_index = np.arange(X.shape[0])\n",
        "    if shuffle:\n",
        "        np.random.shuffle(sample_index)\n",
        "    while True:\n",
        "        batch_index = sample_index[batch_size*counter:batch_size*(counter+1)]\n",
        "        X_batch = X[batch_index,:].toarray()\n",
        "        y_batch = y[batch_index]\n",
        "        counter += 1\n",
        "        yield X_batch, y_batch\n",
        "        if (counter == number_of_batches):\n",
        "            if shuffle:\n",
        "                np.random.shuffle(sample_index)\n",
        "            counter = 0\n",
        "\n",
        "def batch_generatorp(X, batch_size, shuffle):\n",
        "    number_of_batches = X.shape[0] / np.ceil(X.shape[0]/batch_size)\n",
        "    counter = 0\n",
        "    sample_index = np.arange(X.shape[0])\n",
        "    while True:\n",
        "        batch_index = sample_index[batch_size * counter:batch_size * (counter + 1)]\n",
        "        X_batch = X[batch_index, :].toarray()\n",
        "        counter += 1\n",
        "        yield X_batch\n",
        "        if (counter == number_of_batches):\n",
        "            counter = 0"
      ],
      "execution_count": 0,
      "outputs": []
    },
    {
      "metadata": {
        "id": "QUSIvdz2t6OD",
        "colab_type": "code",
        "outputId": "814134fc-e9ea-4410-9efc-ff678f173e1d",
        "colab": {
          "base_uri": "https://localhost:8080/",
          "height": 71
        }
      },
      "cell_type": "code",
      "source": [
        "targetencoder = LabelEncoder().fit(gatrain.group)\n",
        "y = targetencoder.transform(gatrain.group)\n",
        "nclasses = len(targetencoder.classes_)\n",
        "\n",
        "X_train, X_val, y_train, y_val = train_test_split(\n",
        "    Xtrain, y, train_size=.98, random_state=10)"
      ],
      "execution_count": 18,
      "outputs": [
        {
          "output_type": "stream",
          "text": [
            "/usr/local/lib/python3.6/dist-packages/sklearn/model_selection/_split.py:2179: FutureWarning: From version 0.21, test_size will always complement train_size unless both are specified.\n",
            "  FutureWarning)\n"
          ],
          "name": "stderr"
        }
      ]
    },
    {
      "metadata": {
        "id": "K_ScAJ0xt9IW",
        "colab_type": "code",
        "outputId": "9f660cff-f081-4f73-fc0c-ef8d1e4d527f",
        "colab": {
          "base_uri": "https://localhost:8080/",
          "height": 71
        }
      },
      "cell_type": "code",
      "source": [
        "def baseline_model():\n",
        "    # Описание модели - glorot_normalizer \n",
        "    # Он рисует образцы из усеченного нормального распределения с центром в 0 с \n",
        "    # помощью stddev sqrt (2 / (fanin fanout)), где fanin-количество входных \n",
        "    # единиц в Тензоре веса, а fanout-количество выходных единиц в Тензоре веса.\n",
        "    # ReLU\n",
        "    model = Sequential()\n",
        "\n",
        "    model.add(Dense(150, input_dim=X_train.shape[1], kernel_initializer='glorot_normal'))\n",
        "    model.add(PReLU())\n",
        "    model.add(Dropout(0.4))\n",
        "    \n",
        "    model.add(Dense(2, kernel_initializer='glorot_normal'))\n",
        "    pre = PReLU()\n",
        "    model.add(pre)\n",
        "\n",
        "    model.add(Dense(50, kernel_initializer='glorot_normal'))\n",
        "    model.add(PReLU())\n",
        "    model.add(Dropout(0.2))\n",
        "    \n",
        "    model.add(Dense(12, kernel_initializer='glorot_normal', activation='softmax'))\n",
        "    # Компилим\n",
        "    model.compile(loss='sparse_categorical_crossentropy', optimizer='adadelta', metrics=['accuracy'])  #logloss\n",
        "    return model,pre\n",
        "\n",
        "model,pre=baseline_model()\n",
        "\n",
        "early_stopping = EarlyStopping(monitor='val_loss', patience=2)\n",
        "\n",
        "#checkpoint = ModelCheckpoint(\"weights.best.hdf5\", monitor='val_loss', verbose=1, save_best_only=True, mode='min')\n",
        "\n",
        "fit= model.fit_generator(generator=batch_generator(X_train, y_train, 64, True),\n",
        "                         epochs=20,\n",
        "                         samples_per_epoch=X_train.shape[0],\n",
        "                         validation_data=(X_val.todense(), y_val), verbose=2,\n",
        "                         callbacks=[early_stopping])"
      ],
      "execution_count": 0,
      "outputs": [
        {
          "output_type": "stream",
          "text": [
            "/usr/local/lib/python3.6/dist-packages/ipykernel_launcher.py:36: UserWarning: Update your `fit_generator` call to the Keras 2 API: `fit_generator(generator=<generator..., epochs=20, validation_data=(matrix([[..., verbose=2, callbacks=[<keras.ca..., steps_per_epoch=73152)`\n"
          ],
          "name": "stderr"
        },
        {
          "output_type": "stream",
          "text": [
            "Epoch 1/20\n"
          ],
          "name": "stdout"
        }
      ]
    },
    {
      "metadata": {
        "id": "Ii-9SYelQqZn",
        "colab_type": "code",
        "colab": {}
      },
      "cell_type": "code",
      "source": [
        "model.save('gdrive/My Drive/TalkingData/model.h5')"
      ],
      "execution_count": 0,
      "outputs": []
    }
  ]
}